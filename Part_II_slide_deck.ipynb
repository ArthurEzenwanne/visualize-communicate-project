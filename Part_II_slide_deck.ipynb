{
 "cells": [
  {
   "cell_type": "markdown",
   "metadata": {
    "slideshow": {
     "slide_type": "slide"
    }
   },
   "source": [
    "# Part II - Effects of Credit Scores and Risk Ratings on Interest Rates\n",
    "## by Arthur Ezenwanne "
   ]
  },
  {
   "cell_type": "markdown",
   "metadata": {
    "slideshow": {
     "slide_type": "slide"
    }
   },
   "source": [
    "## Investigation Overview\n",
    "For the slide deck I will be focusing on the influence of Prosper risk analysis ratings (`ProsperRating`) and credit score bands (`CreditScoreRange`) on interest rates. My hypothesis is that there is a positive relationship between `CreditScoreRange` and `ProsperRating` and an inverse relationship with `BorrowerRate`.\n",
    "\n",
    "I begin by looking at distributions of the features of interest viz `CreditScoreRange`, `ProsperRating`, and `BorrowerRate`; then studying how each score metric is correlated with rate and finally how both score metrics is distributed against rate. I hypothesize that applications with high score metrics would most likely have very low rates of interest.\n",
    "\n",
    "\n",
    "## Dataset Overview\n",
    "Dataset contains 77,524 non null records and 18 features. The features contains 8 `categorical` datatypes, 6 `float` datatypes, and 2 `int` datatypes, 1 `str` datatype, and 1 `bool` datatype."
   ]
  },
  {
   "cell_type": "code",
   "execution_count": 1,
   "metadata": {
    "slideshow": {
     "slide_type": "skip"
    }
   },
   "outputs": [],
   "source": [
    "# import all packages and set plots to be embedded inline\n",
    "import numpy as np\n",
    "import pandas as pd\n",
    "import matplotlib.pyplot as plt\n",
    "import seaborn as sb\n",
    "from pandas.api.types import CategoricalDtype\n",
    "\n",
    "%matplotlib inline\n",
    "plt.rcParams['figure.figsize'] = (10, 6)\n",
    "\n",
    "# suppress warnings from final output\n",
    "import warnings\n",
    "warnings.simplefilter(\"ignore\")"
   ]
  },
  {
   "cell_type": "code",
   "execution_count": 2,
   "metadata": {
    "slideshow": {
     "slide_type": "skip"
    }
   },
   "outputs": [],
   "source": [
    "# load in the dataset into a pandas dataframe\n",
    "# I used a cleaned dataset from the previous exploratory analysis\n",
    "# seaborn has an issue with these Pandas CategoricalDtype so I'll just clean again\n",
    "# df_clean = pd.read_csv('data_cleaned.csv')\n",
    "df = pd.read_csv('prosperLoanData.csv')"
   ]
  },
  {
   "cell_type": "code",
   "execution_count": 3,
   "metadata": {
    "slideshow": {
     "slide_type": "skip"
    }
   },
   "outputs": [],
   "source": [
    "# code\n",
    "# convert to categorical\n",
    "def convert_to_cat(a, b=True):\n",
    "    '''\n",
    "    Converts columns to categorical columns from a given dict\n",
    "    \n",
    "    Args:\n",
    "    a: dict containing cols to be converted to categorical datatype\n",
    "    b: status of the conversion if ordered or not\n",
    "    \n",
    "    Returns:\n",
    "    None\n",
    "    '''\n",
    "    for var in a:\n",
    "        ordered_var = CategoricalDtype(ordered=b, categories=a[var])\n",
    "        df_clean[var] = df_clean[var].astype(ordered_var)\n",
    "    "
   ]
  },
  {
   "cell_type": "code",
   "execution_count": 4,
   "metadata": {
    "slideshow": {
     "slide_type": "skip"
    }
   },
   "outputs": [],
   "source": [
    "# base color to use in my seaborn visuals\n",
    "palette_base = sb.color_palette('pastel')\n",
    "\n",
    "# select the desired columns subset\n",
    "cols = ['Term', 'LoanStatus', 'BorrowerAPR', 'BorrowerRate', 'EstimatedReturn',  \n",
    "        'ProsperRating (Alpha)', 'ListingCategory (numeric)', 'EmploymentStatus', 'EmploymentStatusDuration', \n",
    "        'IsBorrowerHomeowner', 'CreditScoreRangeLower', 'CreditScoreRangeUpper', 'DebtToIncomeRatio', 'IncomeRange', \n",
    "        'LoanOriginalAmount', 'LoanOriginationQuarter', 'PercentFunded', 'InvestmentFromFriendsAmount', 'BorrowerState']\n",
    "\n",
    "# take a subset of the data\n",
    "df = df[cols]\n",
    "\n",
    "# make a copy of the data\n",
    "df_clean = df.copy()\n",
    "\n",
    "# rename cols\n",
    "df_clean.rename(columns={'ProsperRating (Alpha)':'ProsperRating', 'ListingCategory (numeric)':'ListingCategory'}, \n",
    "                inplace=True)\n",
    "\n",
    "# drop nulls\n",
    "df_clean.dropna(inplace=True)\n",
    "\n",
    "# drop all records with a ListingCategory of 0 \n",
    "df_clean = df_clean[df_clean.ListingCategory != 0]\n",
    "\n",
    "# convert the dtype to int so as to remove the floting point zeros\n",
    "df_clean = df_clean.astype({'CreditScoreRangeLower':'int', 'CreditScoreRangeUpper':'int'})\n",
    "\n",
    "# convert the dtype to str so as to better join the values\n",
    "df_clean = df_clean.astype({'CreditScoreRangeLower':'str', 'CreditScoreRangeUpper':'str'})\n",
    "\n",
    "# create a new feature by\n",
    "df_clean['CreditScoreRange'] = df_clean.CreditScoreRangeLower + '-' + df_clean.CreditScoreRangeUpper\n",
    "\n",
    "# drop the base columns\n",
    "df_clean.drop(labels=['CreditScoreRangeLower', 'CreditScoreRangeUpper'], axis=1, inplace=True)"
   ]
  },
  {
   "cell_type": "code",
   "execution_count": 5,
   "metadata": {
    "slideshow": {
     "slide_type": "skip"
    }
   },
   "outputs": [],
   "source": [
    "# convert Term, ProsperScore, ProsperRating, CreditScoreRange, IncomeRange, and LoanOriginationQuarter\n",
    "# into ordered categorical types\n",
    "\n",
    "# change ListingCategory numerical values to their corresponding textual representation\n",
    "df_clean.ListingCategory = df_clean.ListingCategory.replace({1:'Debt Consolidation', 2:'Home Improvement', 3:'Business', \n",
    "                                                             4:'Personal Loan', 5:'Student Use', 6:'Auto', 7:'Other', \n",
    "                                                             8:'Baby & Adoption', 9:'Boat', 10:'Cosmetic Procedure', \n",
    "                                                             11:'Engagement Ring', 12:'Green Loans', \n",
    "                                                             13:'Household Expenses', 14:'Large Purchases', \n",
    "                                                             15:'Medical Dental', 16:'Motorcycle', 17:'RV', 18:'Taxes', \n",
    "                                                             19:'Vacation', 20:'Wedding Loans'})\n",
    "\n",
    "# convert Term to a str data since I am not performing calculations on the terms and would be converting it to categorical\n",
    "df_clean = df_clean.astype({'Term':'str'})\n",
    "\n",
    "# choose the columns to be ordered and unordered categorical variables\n",
    "ordinal_var_dict = {'Term': ['12', '36', '60'],\n",
    "                    'ProsperRating': ['HR', 'E', 'D', 'C', 'B', 'A', 'AA'],\n",
    "                    'CreditScoreRange': ['600-619', '620-639', '640-659', '660-679', '680-699', '700-719', '720-739',\n",
    "                                         '740-759', '760-779', '780-799', '800-819', '820-839', '840-859', '860-879',\n",
    "                                         '880-899'],\n",
    "                    'IncomeRange': ['Not employed', '$1-24,999', '$25,000-49,999', '$50,000-74,999', '$75,000-99,999',\n",
    "                                    '$100,000+'],\n",
    "                    'LoanOriginationQuarter': ['Q3 2009', 'Q4 2009', 'Q1 2010', 'Q2 2010', 'Q3 2010', 'Q4 2010', 'Q1 2011',\n",
    "                                               'Q2 2011', 'Q3 2011', 'Q4 2011', 'Q1 2012', 'Q2 2012', 'Q3 2012', 'Q4 2012',\n",
    "                                               'Q1 2013', 'Q2 2013', 'Q3 2013', 'Q4 2013', 'Q1 2014']}\n",
    "convert_to_cat(ordinal_var_dict)\n",
    "\n",
    "# convert ListingCategory, EmploymentStatus, and LoanStatus into nominal categorical types\n",
    "nominal_var_dict = {'ListingCategory': ['Debt Consolidation', 'Home Improvement', 'Business', 'Personal Loan',\n",
    "                                             'Student Use', 'Auto', 'Other', 'Baby & Adoption', 'Boat', \n",
    "                                             'Cosmetic Procedure', 'Engagement Ring', 'Green Loans', \n",
    "                                             'Household Expenses', 'Large Purchases', 'Medical Dental', \n",
    "                                             'Motorcycle', 'RV', 'Taxes', 'Vacation', 'Wedding Loans'],\n",
    "                    'EmploymentStatus': ['Employed', 'Full-time', 'Not employed', 'Other', 'Part-time', \n",
    "                                         'Retired', 'Self-employed'],\n",
    "                    'LoanStatus': ['Chargedoff', 'Completed', 'Current', 'Defaulted', 'FinalPaymentInProgress',\n",
    "                                   'Past Due (1-15 days)', 'Past Due (16-30 days)', 'Past Due (31-60 days)', \n",
    "                                   'Past Due (61-90 days)', 'Past Due (91-120 days)', 'Past Due (>120 days)']}\n",
    "convert_to_cat(nominal_var_dict, False)\n",
    "\n",
    "# convert the EmploymentStatusDuration dtype to int so as to remove the floting point zeros\n",
    "df_clean = df_clean.astype({'EmploymentStatusDuration':'int64'})\n",
    "\n",
    "# reset the index\n",
    "df_clean.reset_index(drop=True, inplace=True)"
   ]
  },
  {
   "cell_type": "markdown",
   "metadata": {
    "slideshow": {
     "slide_type": "slide"
    }
   },
   "source": [
    "## Distribution of Borrower Rate\n",
    "The borrower rate states the risk lender is willinging to bear in the transaction. The data for `BorrowerRate` is fairly uniformly distributed. However, we can see that some data point for `BorrowerRate` between __*0.31*__ and __*0.32*__ seems to contain outliers."
   ]
  },
  {
   "cell_type": "code",
   "execution_count": 6,
   "metadata": {
    "slideshow": {
     "slide_type": "subslide"
    }
   },
   "outputs": [
    {
     "data": {
      "image/png": "[encoded data removed]",
      "text/plain": [
       "<Figure size 720x360 with 1 Axes>"
      ]
     },
     "metadata": {
      "needs_background": "light"
     },
     "output_type": "display_data"
    }
   ],
   "source": [
    "# plot a histogram to look at the loan borrower rate distribution \n",
    "bins_edges = np.arange(0.03, df_clean.BorrowerRate.max()+0.01, 0.01)\n",
    "sb.displot(df_clean.BorrowerRate, bins=bins_edges, color=palette_base[0], height=5, aspect=2)\n",
    "\n",
    "# \n",
    "plt.xlabel('\\nBorrower rate')\n",
    "plt.ylabel('Count of loans\\n')\n",
    "plt.title('Distribution of Borrower Loan Rate by Count\\n')\n",
    "\n",
    "plt.show();"
   ]
  },
  {
   "cell_type": "markdown",
   "metadata": {
    "slideshow": {
     "slide_type": "slide"
    }
   },
   "source": [
    "## Distribution of Credit Score Range\n",
    "The distribution of `CreditScoreRange` is normally distributed (with a slight right tail) and a sizable number (about __*15%*__) of disbursed loans were given to users with above average credit scores, while less than __*4%*__ of disbursed loans were given to users with a low credit score. It is interesting to note that there is a high correlation between `ProsperRating` and `CreditScoreRange`."
   ]
  },
  {
   "cell_type": "code",
   "execution_count": 7,
   "metadata": {
    "slideshow": {
     "slide_type": "subslide"
    }
   },
   "outputs": [
    {
     "data": {
      "image/png": "[encoded data removed]",
      "text/plain": [
       "<Figure size 720x360 with 1 Axes>"
      ]
     },
     "metadata": {
      "needs_background": "light"
     },
     "output_type": "display_data"
    }
   ],
   "source": [
    "# plot a chart to look at credit score range using the proportion of occurance\n",
    "# get the proportions\n",
    "n_loan_status = df_clean.CreditScoreRange.value_counts().sum()\n",
    "type_counts = df_clean.CreditScoreRange.value_counts()\n",
    "max_loan_status = type_counts[0] / n_loan_status\n",
    "\n",
    "# plot the chart\n",
    "sb.displot(df_clean.CreditScoreRange, color=palette_base[0], height=5, aspect=2).set_xticklabels(rotation=45)\n",
    "\n",
    "ordered_cat = ['600-619', '620-639', '640-659', '660-679', '680-699', '700-719', '720-739', '740-759', '760-779', \n",
    "               '780-799', '800-819', '820-839', '840-859', '860-879', '880-899']\n",
    "counter = 0\n",
    "\n",
    "# write the text on each bar\n",
    "for var in ordered_cat:\n",
    "    count = type_counts[var]\n",
    "    # convert count into a str percentage\n",
    "    pct_str = '{:0.1f}%'.format(100*count/n_loan_status)\n",
    "    # print the value on the bar \n",
    "    plt.text(counter-0.25, count+100, pct_str, va='baseline')\n",
    "    counter = counter + 1                                  # helps in writing the texts on the x-asis\n",
    "\n",
    "# \n",
    "plt.xlabel('\\nCredit score range')\n",
    "plt.ylabel('Count of loans\\n')\n",
    "plt.title('Distribution of Credit Score Range by Count\\n')\n",
    "\n",
    "plt.show();"
   ]
  },
  {
   "cell_type": "markdown",
   "metadata": {
    "slideshow": {
     "slide_type": "slide"
    }
   },
   "source": [
    "## Distribution of Prosper Rating Score\n",
    "From the above two charts for  and `CreditScoreRange` We see that the `ProsperRating` feature is normally distributed. We could clearly see that over __*74%*__ of disbursed loans were given to clients with grade between __*D*__ and __*A*__ (inclusive). This also translated to a highly corelated relationship with the `CreditScoreRange` where we see over __*80%*__ of the disbursed loans went to users whose credit range scores was between __*640-759*__."
   ]
  },
  {
   "cell_type": "code",
   "execution_count": 8,
   "metadata": {
    "slideshow": {
     "slide_type": "subslide"
    }
   },
   "outputs": [
    {
     "data": {
      "image/png": "[encoded data removed]",
      "text/plain": [
       "<Figure size 720x360 with 1 Axes>"
      ]
     },
     "metadata": {
      "needs_background": "light"
     },
     "output_type": "display_data"
    }
   ],
   "source": [
    "# plot a chart to look at Prosper risk score using the proportion of occurance\n",
    "# get the proportions\n",
    "n_loan_status = df_clean.ProsperRating.value_counts().sum()\n",
    "type_counts = df_clean.ProsperRating.value_counts()\n",
    "max_loan_status = type_counts[0] / n_loan_status\n",
    "\n",
    "# plot the chart\n",
    "sb.displot(df_clean.ProsperRating, color=palette_base[0], height=5, aspect=2)\n",
    "\n",
    "ordered_cat = ['HR', 'E', 'D', 'C', 'B', 'A', 'AA']\n",
    "counter = 0\n",
    "\n",
    "# write the text on each bar\n",
    "for var in ordered_cat:\n",
    "    count = type_counts[var]\n",
    "    # convert count into a str percentage\n",
    "    pct_str = '{:0.1f}%'.format(100*count/n_loan_status)\n",
    "    # print the value on the bar \n",
    "    plt.text(counter-0.25, count+100, pct_str, va='baseline')\n",
    "    counter = counter + 1                                  # helps in writing the texts on the x-asis\n",
    "\n",
    "# \n",
    "plt.xlabel('\\nProsper rating score')\n",
    "plt.ylabel('Count of loans\\n')\n",
    "plt.title('Distribution of Prosper Rating Score by Count\\n')\n",
    "\n",
    "plt.show();"
   ]
  },
  {
   "cell_type": "code",
   "execution_count": null,
   "metadata": {},
   "outputs": [],
   "source": []
  },
  {
   "cell_type": "code",
   "execution_count": null,
   "metadata": {},
   "outputs": [],
   "source": []
  },
  {
   "cell_type": "code",
   "execution_count": null,
   "metadata": {},
   "outputs": [],
   "source": []
  }
 ],
 "metadata": {
  "celltoolbar": "Slideshow",
  "kernelspec": {
   "display_name": "Python 3",
   "language": "python",
   "name": "python3"
  },
  "language_info": {
   "codemirror_mode": {
    "name": "ipython",
    "version": 3
   },
   "file_extension": ".py",
   "mimetype": "text/x-python",
   "name": "python",
   "nbconvert_exporter": "python",
   "pygments_lexer": "ipython3",
   "version": "3.8.5"
  }
 },
 "nbformat": 4,
 "nbformat_minor": 4
}
